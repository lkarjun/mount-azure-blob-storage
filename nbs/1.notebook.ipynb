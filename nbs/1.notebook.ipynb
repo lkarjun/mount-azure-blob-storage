{
 "cells": [
  {
   "cell_type": "code",
   "execution_count": 16,
   "id": "44fd295b-a576-4814-a8aa-10da0f52bf96",
   "metadata": {
    "tags": []
   },
   "outputs": [],
   "source": [
    "from IPython.display import display\n",
    "import ipywidgets as widgets\n",
    "import subprocess\n",
    "from functools import partial\n",
    "from dotenv import load_dotenv\n",
    "import os"
   ]
  },
  {
   "cell_type": "code",
   "execution_count": 17,
   "id": "611cd78b",
   "metadata": {
    "tags": []
   },
   "outputs": [],
   "source": [
    "def install_dependenices():\n",
    "    dependencies_install_command = \"\"\"\n",
    "        wget https://packages.microsoft.com/config/ubuntu/20.04/packages-microsoft-prod.deb\n",
    "        sudo dpkg -i packages-microsoft-prod.deb\n",
    "        sudo apt-get update\n",
    "        sudo apt-get install blobfuse\n",
    "        rm packages-microsoft-prod.deb\n",
    "    \"\"\"\n",
    "    output = subprocess.check_output(dependencies_install_command, shell=True)\n",
    "    print(\"Dependencies Installed...\")\n"
   ]
  },
  {
   "cell_type": "code",
   "execution_count": 18,
   "id": "39586e2f-1eea-4956-b3ab-581e80857448",
   "metadata": {
    "tags": []
   },
   "outputs": [],
   "source": [
    "def _mount_storage_helper(account_name, account_key, container_name, mount_path):\n",
    "    print(\"\\nMounting azure blob storage...\")\n",
    "    with open(\"fuse_connection.cfg\", \"w\") as f:\n",
    "        content = f\"\"\"accountName {account_name}\\naccountKey {account_key}\\ncontainerName {container_name}\"\"\"\n",
    "        f.write(content)\n",
    "\n",
    "    # install_dependenices()\n",
    "\n",
    "    command = f\"\"\"\n",
    "        chmod 600 fuse_connection.cfg\n",
    "        mkdir {mount_path}\n",
    "        sudo blobfuse {mount_path} --tmp-path=/mnt/resource/blobfusetmp  --config-file=fuse_connection.cfg -o attr_timeout=240 -o entry_timeout=240 -o negative_timeout=120\n",
    "        rm fuse_connection.cfg\n",
    "      \"\"\"\n",
    "    # output = subprocess.check_output(command, shell=True)\n",
    "    print(\"Successfully Mounted...\")\n"
   ]
  },
  {
   "cell_type": "code",
   "execution_count": 19,
   "id": "54db8600",
   "metadata": {
    "tags": []
   },
   "outputs": [],
   "source": [
    "def _mount_storage__widget_helper(\n",
    "    accountName: widgets.Text, \n",
    "    accountKey: widgets.Text, \n",
    "    containerName: widgets.Text, \n",
    "    mountPath: widgets.Text\n",
    "):\n",
    "    _mount_storage_helper(\n",
    "        account_name=accountName.value,\n",
    "        account_key=accountKey.value,\n",
    "        container_name=containerName.value,\n",
    "        mount_path=mountPath.value\n",
    "    )"
   ]
  },
  {
   "cell_type": "code",
   "execution_count": 24,
   "id": "b20a88f4",
   "metadata": {
    "tags": []
   },
   "outputs": [
    {
     "data": {
      "application/vnd.jupyter.widget-view+json": {
       "model_id": "2fc0f498ad854c0ca3bcdec8c8c53edd",
       "version_major": 2,
       "version_minor": 0
      },
      "text/plain": [
       "VBox(children=(HBox(children=(Text(value='', description='accountName'), Text(value='', description='accountKe…"
      ]
     },
     "execution_count": 24,
     "metadata": {},
     "output_type": "execute_result"
    }
   ],
   "source": [
    "def mount_storage(mount_path = \"blob-storage\", config_file=None):\n",
    "    if config_file and load_dotenv(dotenv_path=config_file):\n",
    "        _mount_storage_helper(\n",
    "            account_name=os.getenv(\"account_name\"),\n",
    "            account_key=os.getenv(\"account_key\"),\n",
    "            container_name=os.getenv(\"container_name\"),\n",
    "            mount_path=os.getenv(\"mount_path\", default=mount_path)\n",
    "        )\n",
    "    else:\n",
    "        accountName = widgets.Text(description='accountName')\n",
    "        accountKey = widgets.Text(description='accountKey')\n",
    "        containerName = widgets.Text(description='containerName')\n",
    "        mountPath = widgets.Text(value=mount_path, description='mountPath')\n",
    "        btn = widgets.Button(\n",
    "            button_style='success', icon='check', description='Mount Storage'\n",
    "        )\n",
    "        btn.on_click(\n",
    "            partial(\n",
    "                _mount_storage__widget_helper, \n",
    "                accountName=accountName, \n",
    "                accountKey=accountKey, \n",
    "                containerName=containerName, \n",
    "                mountPath=mountPath\n",
    "            )\n",
    "        )\n",
    "        box = widgets.VBox(\n",
    "            [\n",
    "                widgets.HBox([accountName, accountKey, containerName]), \n",
    "                mountPath,\n",
    "                btn,\n",
    "            ]\n",
    "        )\n",
    "        return box\n",
    "        \n",
    "\n",
    "mount_storage()"
   ]
  },
  {
   "cell_type": "code",
   "execution_count": null,
   "id": "dc4d7cf3-b2fb-4b86-8c22-336622ad6586",
   "metadata": {},
   "outputs": [],
   "source": []
  }
 ],
 "metadata": {
  "kernelspec": {
   "display_name": "Python 3 (ipykernel)",
   "language": "python",
   "name": "python3"
  },
  "language_info": {
   "codemirror_mode": {
    "name": "ipython",
    "version": 3
   },
   "file_extension": ".py",
   "mimetype": "text/x-python",
   "name": "python",
   "nbconvert_exporter": "python",
   "pygments_lexer": "ipython3",
   "version": "3.10.4"
  },
  "vscode": {
   "interpreter": {
    "hash": "15851d8961a10f44f75624877f7f856b1bfb13ba095cb7fcc9326aed1b542e17"
   }
  }
 },
 "nbformat": 4,
 "nbformat_minor": 5
}
